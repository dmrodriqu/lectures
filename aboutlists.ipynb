{
 "cells": [
  {
   "cell_type": "markdown",
   "metadata": {
    "slideshow": {
     "slide_type": "slide"
    }
   },
   "source": [
    "# CS 177\n",
    "# Lists, Lists, and More Lists"
   ]
  },
  {
   "cell_type": "markdown",
   "metadata": {
    "slideshow": {
     "slide_type": "slide"
    }
   },
   "source": [
    "# List Structures and Values\n",
    "\n",
    "## Review:\n",
    "\n",
    "## A list contains a set of elements we can iterate over. For example"
   ]
  },
  {
   "cell_type": "code",
   "execution_count": 2,
   "metadata": {
    "slideshow": {
     "slide_type": "fragment"
    }
   },
   "outputs": [],
   "source": [
    "fnames = ['Will','John','Yolanda','Zeb']\n",
    "lnames = ['Carson','Wilhelm','Brown','Indiano']\n",
    "zig = [['ooh','be'],['this','hittin'],['list','different']]\n",
    "zag = [[\"2\", 3], [zig, fnames],[10, lnames[3]]]"
   ]
  },
  {
   "cell_type": "code",
   "execution_count": 3,
   "metadata": {
    "slideshow": {
     "slide_type": "fragment"
    }
   },
   "outputs": [
    {
     "name": "stdout",
     "output_type": "stream",
     "text": [
      "[['2', 3], [[['ooh', 'be'], ['this', 'hittin'], ['list', 'different']], ['Will', 'John', 'Yolanda', 'Zeb']], [10, 'Indiano']]\n"
     ]
    }
   ],
   "source": [
    "print(zag)"
   ]
  },
  {
   "cell_type": "markdown",
   "metadata": {
    "slideshow": {
     "slide_type": "slide"
    }
   },
   "source": [
    "# Let's review the syntax to access elements in a list:\n",
    "\n",
    "```\n",
    "listName[index]\n",
    "```\n",
    "\n",
    "### if listName[index] produces another list, we can access the elements of that list using another set of brackets"
   ]
  },
  {
   "cell_type": "code",
   "execution_count": 4,
   "metadata": {
    "slideshow": {
     "slide_type": "fragment"
    }
   },
   "outputs": [
    {
     "name": "stdout",
     "output_type": "stream",
     "text": [
      "accessing the firstnames list\n",
      "\n",
      "Zeb\n",
      "John\n",
      "['Will', 'John', 'Yolanda', 'Zeb']\n"
     ]
    }
   ],
   "source": [
    "print(\"accessing the firstnames list\")\n",
    "print()\n",
    "print(fnames[3])\n",
    "print(fnames[3-2])\n",
    "print(zag[1][1])\n"
   ]
  },
  {
   "cell_type": "markdown",
   "metadata": {
    "slideshow": {
     "slide_type": "slide"
    }
   },
   "source": [
    "# List Membership\n",
    "\n",
    "## Rather than looping over a list, we can use the \"in\" keyword to check if something is in a list"
   ]
  },
  {
   "cell_type": "code",
   "execution_count": 37,
   "metadata": {
    "slideshow": {
     "slide_type": "fragment"
    }
   },
   "outputs": [
    {
     "name": "stdout",
     "output_type": "stream",
     "text": [
      "False\n",
      "True\n",
      "False\n"
     ]
    }
   ],
   "source": [
    "print(\"Zeb\"  not in  fnames)\n",
    "print(\"zeb\" not in fnames)\n",
    "print(\"Will\" in zag)"
   ]
  },
  {
   "cell_type": "markdown",
   "metadata": {
    "slideshow": {
     "slide_type": "fragment"
    }
   },
   "source": [
    "## \"in\" and \"not in\" are boolean operators.\n",
    "\n",
    "* if an element is in a list, the statement will equate to true\n",
    "* else it will equate to false\n",
    "\n"
   ]
  },
  {
   "cell_type": "markdown",
   "metadata": {
    "slideshow": {
     "slide_type": "slide"
    }
   },
   "source": [
    "## Here we loop over the list using range and length "
   ]
  },
  {
   "cell_type": "code",
   "execution_count": 6,
   "metadata": {
    "slideshow": {
     "slide_type": "fragment"
    }
   },
   "outputs": [
    {
     "name": "stdout",
     "output_type": "stream",
     "text": [
      "Carson, Will\n",
      "Wilhelm, John\n",
      "Brown, Yolanda\n",
      "Indiano, Zeb\n"
     ]
    }
   ],
   "source": [
    "for j in range(len(fnames)):\n",
    "    print(lnames[j] + ', ' + fnames[j])"
   ]
  },
  {
   "cell_type": "markdown",
   "metadata": {
    "slideshow": {
     "slide_type": "slide"
    }
   },
   "source": [
    "## Lets dissect this for loop:\n",
    "1. Get the length of the length of the list\n",
    "2. create a sequence that gives us the indices of the list\n",
    "3. loop over the indices of the list"
   ]
  },
  {
   "cell_type": "code",
   "execution_count": 7,
   "metadata": {
    "slideshow": {
     "slide_type": "fragment"
    }
   },
   "outputs": [
    {
     "name": "stdout",
     "output_type": "stream",
     "text": [
      "4\n"
     ]
    }
   ],
   "source": [
    "print(len(fnames))"
   ]
  },
  {
   "cell_type": "code",
   "execution_count": 8,
   "metadata": {
    "slideshow": {
     "slide_type": "fragment"
    }
   },
   "outputs": [
    {
     "name": "stdout",
     "output_type": "stream",
     "text": [
      "[0, 1, 2, 3]\n"
     ]
    }
   ],
   "source": [
    "indices = list(range(len(fnames)))\n",
    "print(list(range(len(fnames))))"
   ]
  },
  {
   "cell_type": "code",
   "execution_count": 9,
   "metadata": {
    "slideshow": {
     "slide_type": "fragment"
    }
   },
   "outputs": [
    {
     "name": "stdout",
     "output_type": "stream",
     "text": [
      "0\n",
      "1\n",
      "2\n",
      "3\n"
     ]
    }
   ],
   "source": [
    "for j in indices:\n",
    "    print(j)"
   ]
  },
  {
   "cell_type": "markdown",
   "metadata": {
    "slideshow": {
     "slide_type": "slide"
    }
   },
   "source": [
    "# Here's the expansion of the loop\n",
    "## We use the list of indices and assign the first element to a variable. We then use this variable to perfom some operation. In this case, we use i to index lnames and fnames"
   ]
  },
  {
   "cell_type": "code",
   "execution_count": 10,
   "metadata": {
    "slideshow": {
     "slide_type": "fragment"
    }
   },
   "outputs": [
    {
     "name": "stdout",
     "output_type": "stream",
     "text": [
      "Carson Will\n",
      "Wilhelm John\n",
      "Brown Yolanda\n",
      "Indiano Zeb\n"
     ]
    }
   ],
   "source": [
    "i = indices[0]\n",
    "print(lnames[i], fnames[i])\n",
    "i = indices[1]\n",
    "print(lnames[i], fnames[i])\n",
    "i = indices[2]\n",
    "print(lnames[i], fnames[i])\n",
    "i = indices[3]\n",
    "print(lnames[i], fnames[i])"
   ]
  },
  {
   "cell_type": "markdown",
   "metadata": {
    "slideshow": {
     "slide_type": "fragment"
    }
   },
   "source": [
    "# Now lets see the for loop:"
   ]
  },
  {
   "cell_type": "code",
   "execution_count": 11,
   "metadata": {
    "slideshow": {
     "slide_type": "fragment"
    }
   },
   "outputs": [
    {
     "name": "stdout",
     "output_type": "stream",
     "text": [
      "Carson, Will\n",
      "Wilhelm, John\n",
      "Brown, Yolanda\n",
      "Indiano, Zeb\n"
     ]
    }
   ],
   "source": [
    "for j in indices:\n",
    "    print(lnames[j] + ', ' + fnames[j])"
   ]
  },
  {
   "cell_type": "markdown",
   "metadata": {
    "slideshow": {
     "slide_type": "fragment"
    }
   },
   "source": [
    "# Why do we only use the length of one list?"
   ]
  },
  {
   "cell_type": "markdown",
   "metadata": {
    "slideshow": {
     "slide_type": "slide"
    }
   },
   "source": [
    "# The general syntax for a for loop over a list:\n",
    "```\n",
    "for variable in list:\n",
    "    expression\n",
    "```\n",
    "\n",
    "```\n",
    "index = 0\n",
    "while index < lengthOfList:\n",
    "    expression\n",
    "    index+=1\n",
    "```"
   ]
  },
  {
   "cell_type": "markdown",
   "metadata": {
    "slideshow": {
     "slide_type": "slide"
    }
   },
   "source": [
    "# More lists: We can store other data in a list, even lists.\n"
   ]
  },
  {
   "cell_type": "code",
   "execution_count": 12,
   "metadata": {
    "slideshow": {
     "slide_type": "fragment"
    }
   },
   "outputs": [],
   "source": [
    "zig = [['ooh','be'],['this','hittin'],['list','different']]"
   ]
  },
  {
   "cell_type": "code",
   "execution_count": 13,
   "metadata": {
    "slideshow": {
     "slide_type": "fragment"
    }
   },
   "outputs": [
    {
     "name": "stdout",
     "output_type": "stream",
     "text": [
      "ooh this list be hittin different "
     ]
    }
   ],
   "source": [
    "i = 0\n",
    "k = 0\n",
    "while k < 2:\n",
    "    print(zig[i][k], end = \" \")\n",
    "    i+=1\n",
    "    if i >= len(zig):\n",
    "        k+=1\n",
    "        i = 0"
   ]
  },
  {
   "cell_type": "markdown",
   "metadata": {
    "slideshow": {
     "slide_type": "slide"
    }
   },
   "source": [
    "# Let's break this down\n",
    "\n",
    "## General idea: Iterate through the list once with the second index remaining 1:\n",
    "```\n",
    "zig[0][1] \n",
    "zig[1][1] \n",
    "zig[2][1]\n",
    "```\n",
    "### then iterate again with the second index as 2\n",
    "```\n",
    "zig[0][2] \n",
    "zig[1][2] \n",
    "zig[2][2]\n",
    "```\n",
    "\n"
   ]
  },
  {
   "cell_type": "code",
   "execution_count": 14,
   "metadata": {
    "slideshow": {
     "slide_type": "fragment"
    }
   },
   "outputs": [
    {
     "name": "stdout",
     "output_type": "stream",
     "text": [
      "ooh\n",
      "this\n",
      "list\n",
      "be\n",
      "hittin\n",
      "different\n"
     ]
    }
   ],
   "source": [
    "# initialize i/k\n",
    "i = 0\n",
    "k = 0\n",
    "# cond : the number of times we iterate over array\n",
    "while k < 2:\n",
    "    # print result\n",
    "    print (zig[i][k])\n",
    "    # move to next element\n",
    "    i+=1\n",
    "    # if we've® reached the end of the array\n",
    "    if i >= len(zig):\n",
    "        # add 1 to inner index\n",
    "        k+=1\n",
    "        i = 0"
   ]
  },
  {
   "cell_type": "code",
   "execution_count": 15,
   "metadata": {
    "slideshow": {
     "slide_type": "slide"
    }
   },
   "outputs": [
    {
     "name": "stdout",
     "output_type": "stream",
     "text": [
      "zig[0][0]\n",
      "zig[1][0]\n",
      "zig[2][0]\n",
      "end of list!\n",
      "zig[0][1]\n",
      "zig[1][1]\n",
      "zig[2][1]\n",
      "end of list!\n"
     ]
    }
   ],
   "source": [
    "# initialize i/k\n",
    "i = 0\n",
    "k = 0\n",
    "# cond : the number of times we iterate over array\n",
    "while k < 2:\n",
    "    # print result\n",
    "    print(\"zig[{}][{}]\".format(i,k))\n",
    "    # move to next element\n",
    "    i+=1\n",
    "    # if we've reached the end of the array\n",
    "    if i >= len(zig):\n",
    "        print(\"end of list!\")\n",
    "        # add 1 to inner index\n",
    "        k+=1\n",
    "        i = 0"
   ]
  },
  {
   "cell_type": "markdown",
   "metadata": {
    "slideshow": {
     "slide_type": "slide"
    }
   },
   "source": [
    "# Changing and Manipulating Lists\n",
    "\n",
    "## We know append, but what are some other ways?\n",
    "\n",
    "1. concatenate\n",
    "1. (another) append method\n",
    "2. multiplication\n",
    "3. deleting an index, removing an element\n",
    "4. caution!"
   ]
  },
  {
   "cell_type": "code",
   "execution_count": 16,
   "metadata": {
    "slideshow": {
     "slide_type": "skip"
    }
   },
   "outputs": [],
   "source": [
    "cn = [\"I\", \"see\", \"you\"]\n",
    "ny = [\"at\", \"the\", \"movies\"]"
   ]
  },
  {
   "cell_type": "code",
   "execution_count": 17,
   "metadata": {
    "slideshow": {
     "slide_type": "fragment"
    }
   },
   "outputs": [
    {
     "data": {
      "text/plain": [
       "['I', 'see', 'you', 'at', 'the', 'movies']"
      ]
     },
     "execution_count": 17,
     "metadata": {},
     "output_type": "execute_result"
    }
   ],
   "source": [
    "cn + ny"
   ]
  },
  {
   "cell_type": "code",
   "execution_count": 18,
   "metadata": {
    "slideshow": {
     "slide_type": "fragment"
    }
   },
   "outputs": [
    {
     "name": "stdout",
     "output_type": "stream",
     "text": [
      "['I', 'see', 'you', 'at', 'the', 'movies', 'I', 'see', 'you', 'at', 'the', 'movies', 'I', 'see', 'you', 'at', 'the', 'movies']\n"
     ]
    }
   ],
   "source": [
    "multiplicative = (cn+ny)*3\n",
    "print(multiplicative)"
   ]
  },
  {
   "cell_type": "code",
   "execution_count": 19,
   "metadata": {
    "slideshow": {
     "slide_type": "fragment"
    }
   },
   "outputs": [
    {
     "name": "stdout",
     "output_type": "stream",
     "text": [
      "['the', 'movies', 'I', 'see']\n"
     ]
    }
   ],
   "source": [
    "print(multiplicative[4:8])"
   ]
  },
  {
   "cell_type": "markdown",
   "metadata": {
    "slideshow": {
     "slide_type": "slide"
    }
   },
   "source": [
    "# Removing a List Element\n"
   ]
  },
  {
   "cell_type": "code",
   "execution_count": 20,
   "metadata": {
    "slideshow": {
     "slide_type": "fragment"
    }
   },
   "outputs": [
    {
     "name": "stdout",
     "output_type": "stream",
     "text": [
      "['I', 'see', 'you', 'at', 'the', 'I', 'see', 'you', 'at', 'the', 'movies', 'I', 'see', 'you', 'at', 'the', 'movies']\n"
     ]
    }
   ],
   "source": [
    "fulllist = (cn+ny)*3\n",
    "fulllist.remove(\"movies\")\n",
    "print(fulllist)"
   ]
  },
  {
   "cell_type": "code",
   "execution_count": 21,
   "metadata": {
    "slideshow": {
     "slide_type": "fragment"
    }
   },
   "outputs": [
    {
     "name": "stdout",
     "output_type": "stream",
     "text": [
      "['I', 'see', 'you', 'at', 'the', 'I', 'see', 'you', 'at', 'the', 'I', 'see', 'you', 'at', 'the']\n"
     ]
    }
   ],
   "source": [
    "flist = (cn+ny)*3\n",
    "i = 0\n",
    "currentLength = len(flist)\n",
    "while i < currentLength:\n",
    "    # if the element at this index is \"movies\"\n",
    "    if flist[i] == \"movies\":\n",
    "        # removie it\n",
    "        flist.remove(\"movies\")\n",
    "        # now we need to take the length again; repeat\n",
    "        currentLength = len(flist)\n",
    "    # move our index forward\n",
    "    i+=1\n",
    "print(flist)"
   ]
  },
  {
   "cell_type": "markdown",
   "metadata": {
    "slideshow": {
     "slide_type": "fragment"
    }
   },
   "source": [
    "# Why can't we use .replace(_,  _)?"
   ]
  },
  {
   "cell_type": "markdown",
   "metadata": {
    "slideshow": {
     "slide_type": "slide"
    }
   },
   "source": [
    "# Pure functions and modifiers\n",
    "\n",
    "## Notice that a list can be modified by a function. This is known as a side-effect\n",
    "\n",
    "## Functions that don't produce side-effects are known as pure functions. i.e they use a list to produce a new list."
   ]
  },
  {
   "cell_type": "code",
   "execution_count": 39,
   "metadata": {
    "slideshow": {
     "slide_type": "fragment"
    }
   },
   "outputs": [
    {
     "name": "stdout",
     "output_type": "stream",
     "text": [
      "[1, 2, 3, 4]\n",
      "[1, 2, 3, 44]\n",
      "None\n"
     ]
    }
   ],
   "source": [
    "a = [1,2,3,4]\n",
    "    \n",
    "def nonpure(lst):\n",
    "    lst[3] = 44\n",
    "    \n",
    "def pure(lst):\n",
    "    newlist= []\n",
    "    for i in range(len(lst)-1,-1,-1):\n",
    "        newlist.append(lst[i])\n",
    "    \n",
    "        \n",
    "print(a) \n",
    "nonpure(a)\n",
    "print(a)\n",
    "print(pure(a))"
   ]
  },
  {
   "cell_type": "markdown",
   "metadata": {
    "slideshow": {
     "slide_type": "slide"
    }
   },
   "source": [
    "# Why is this? Lists are objects too!\n",
    "\n",
    "## Copying and referencing lists work slightly differently behind the scenes.\n",
    "\n",
    "## hint: helpful debugging info"
   ]
  },
  {
   "cell_type": "code",
   "execution_count": 23,
   "metadata": {
    "slideshow": {
     "slide_type": "fragment"
    }
   },
   "outputs": [
    {
     "name": "stdout",
     "output_type": "stream",
     "text": [
      "True\n",
      "True\n"
     ]
    }
   ],
   "source": [
    "digita = [\"i\"]\n",
    "digitb = digita\n",
    "print (digita == digitb)\n",
    "print (digita is digitb)"
   ]
  },
  {
   "cell_type": "code",
   "execution_count": 24,
   "metadata": {
    "slideshow": {
     "slide_type": "fragment"
    }
   },
   "outputs": [
    {
     "name": "stdout",
     "output_type": "stream",
     "text": [
      "True\n",
      "True\n"
     ]
    }
   ],
   "source": [
    "digita = \"said\"\n",
    "digitb = \"said\"\n",
    "print (digita == digitb)\n",
    "print (digita is digitb)"
   ]
  },
  {
   "cell_type": "code",
   "execution_count": 25,
   "metadata": {
    "slideshow": {
     "slide_type": "fragment"
    }
   },
   "outputs": [
    {
     "name": "stdout",
     "output_type": "stream",
     "text": [
      "True\n",
      "False\n"
     ]
    }
   ],
   "source": [
    "digita = [\"hey\"]\n",
    "digitb = [\"hey\"]\n",
    "print (digita == digitb)\n",
    "print (digita is digitb)"
   ]
  },
  {
   "cell_type": "markdown",
   "metadata": {
    "slideshow": {
     "slide_type": "slide"
    }
   },
   "source": [
    "# $Digit_a$ and $Digit_b$ are \"aliased\"\n",
    "\n",
    "## the list has two different names. We've created a second reference to the same object using the original. So both variabls refer to the same object."
   ]
  },
  {
   "cell_type": "code",
   "execution_count": 40,
   "metadata": {
    "slideshow": {
     "slide_type": "fragment"
    }
   },
   "outputs": [
    {
     "name": "stdout",
     "output_type": "stream",
     "text": [
      "True\n",
      "True\n"
     ]
    }
   ],
   "source": [
    "digita = [\"2\"]\n",
    "digitb = digita\n",
    "print (digita == digitb)\n",
    "print (digita is digitb)"
   ]
  },
  {
   "cell_type": "markdown",
   "metadata": {
    "slideshow": {
     "slide_type": "slide"
    }
   },
   "source": [
    "# $Digit_a$ and $Digit_b$ are two different objects\n",
    "\n",
    "# But...\n",
    "\n",
    "## because strings are immutable, variables that refer to the same value, are made to refer to the same object.\n",
    "\n",
    "## in this case, \"1\" is the value of the string object created."
   ]
  },
  {
   "cell_type": "code",
   "execution_count": 41,
   "metadata": {
    "slideshow": {
     "slide_type": "fragment"
    }
   },
   "outputs": [
    {
     "name": "stdout",
     "output_type": "stream",
     "text": [
      "True\n",
      "True\n"
     ]
    }
   ],
   "source": [
    "digita = 3\n",
    "digitb = 3\n",
    "print (digita == digitb)\n",
    "print (digita is digitb)"
   ]
  },
  {
   "cell_type": "markdown",
   "metadata": {
    "slideshow": {
     "slide_type": "slide"
    }
   },
   "source": [
    "# $Digit_a$ and $Digit_a$ are two different objects\n",
    "\n",
    "## Names for lists always refer to different list objects."
   ]
  },
  {
   "cell_type": "code",
   "execution_count": 28,
   "metadata": {
    "slideshow": {
     "slide_type": "fragment"
    }
   },
   "outputs": [
    {
     "name": "stdout",
     "output_type": "stream",
     "text": [
      "True\n",
      "False\n"
     ]
    }
   ],
   "source": [
    "digita = [\"1\"]\n",
    "digitb = [\"1\"]\n",
    "# do these lists hold the same values\n",
    "print (digita == digitb)\n",
    "# are these objects these objects the same\n",
    "print (digita is digitb)"
   ]
  },
  {
   "cell_type": "markdown",
   "metadata": {
    "slideshow": {
     "slide_type": "slide"
    }
   },
   "source": [
    "# So why doesn't this happen for integers and strings?\n",
    "\n",
    "## Aliases are multiple references to the same value. Notice if we change the integer value, any other reference to this value, or a reference to the reference of this value, must also change\n",
    "\n",
    "## Rather than having each variable reference a separate value, python makes them all reference the same value in memory"
   ]
  },
  {
   "cell_type": "code",
   "execution_count": 29,
   "metadata": {
    "slideshow": {
     "slide_type": "fragment"
    }
   },
   "outputs": [
    {
     "name": "stdout",
     "output_type": "stream",
     "text": [
      "4347436912\n",
      "4347436912\n"
     ]
    }
   ],
   "source": [
    "a = 23\n",
    "b = a\n",
    "print(id(a))\n",
    "print(id(b))\n"
   ]
  },
  {
   "cell_type": "markdown",
   "metadata": {
    "slideshow": {
     "slide_type": "slide"
    }
   },
   "source": [
    "# Copying a list"
   ]
  },
  {
   "cell_type": "code",
   "execution_count": 30,
   "metadata": {
    "slideshow": {
     "slide_type": "fragment"
    }
   },
   "outputs": [
    {
     "name": "stdout",
     "output_type": "stream",
     "text": [
      "lista is listb :  True\n",
      "lista is listc :  False\n"
     ]
    }
   ],
   "source": [
    "lista = list(range(10))\n",
    "listb = lista\n",
    "\n",
    "listc = lista[:]\n",
    "\n",
    "print(\"lista is listb : \", lista is listb)\n",
    "print(\"lista is listc : \", lista is listc)"
   ]
  },
  {
   "cell_type": "markdown",
   "metadata": {
    "slideshow": {
     "slide_type": "fragment"
    }
   },
   "source": [
    "# We create a list and assign it to $list_a$\n",
    "\n"
   ]
  },
  {
   "cell_type": "markdown",
   "metadata": {
    "slideshow": {
     "slide_type": "slide"
    }
   },
   "source": [
    "* The second statement creates an alias to $list_a$ called $list_b$\n",
    "* Any modifications to $list_a$ will change $list_b$ and changes to $list_b$ will affect $list_a$\n",
    "* The last statement creates a copy of $list_a$  and assigns it to $list_c$\n",
    "* Slicing creates a copy of a list, even if it is a slice of the entire list.\n",
    "* Changes to $list_c$ will not affect any other list"
   ]
  },
  {
   "cell_type": "code",
   "execution_count": 53,
   "metadata": {
    "slideshow": {
     "slide_type": "fragment"
    }
   },
   "outputs": [
    {
     "name": "stdout",
     "output_type": "stream",
     "text": [
      "listA: \n",
      "[0, 1, 2, 3, 34, 5, 6, 7, 8, 9]\n",
      "listB: \n",
      "[0, 1, 2, 3, 34, 5, 6, 7, 8, 9]\n",
      "listC: \n",
      "[1000, 1, 2, 3, 4, 5, 6, 7, 8, 9]\n",
      "listC: \n",
      "[1000, 1, 2, 3, 4, 5, 6, 7, 8, 9]\n",
      "listA: \n",
      "[0, 1, 2, 3, 34, 5, 6, 7, 8, 9]\n",
      "[10, 100]\n"
     ]
    }
   ],
   "source": [
    "lista[4]=34\n",
    "print(\"listA: \")\n",
    "print(lista)\n",
    "print(\"listB: \")\n",
    "print(listb)\n",
    "print(\"listC: \")\n",
    "print(listc)\n",
    "listc[0]=1000\n",
    "print(\"listC: \")\n",
    "print(listc)\n",
    "print(\"listA: \")\n",
    "print(lista)\n",
    "\n",
    "# copying a nested list doesnt copy\n",
    "# nested elements!\n",
    "lst = zag[:]\n",
    "zag[2][1] = 100\n",
    "print(lst[2])"
   ]
  },
  {
   "cell_type": "code",
   "execution_count": null,
   "metadata": {},
   "outputs": [],
   "source": []
  },
  {
   "cell_type": "code",
   "execution_count": null,
   "metadata": {},
   "outputs": [],
   "source": []
  },
  {
   "cell_type": "code",
   "execution_count": null,
   "metadata": {},
   "outputs": [],
   "source": []
  },
  {
   "cell_type": "code",
   "execution_count": null,
   "metadata": {},
   "outputs": [],
   "source": []
  }
 ],
 "metadata": {
  "celltoolbar": "Slideshow",
  "kernelspec": {
   "display_name": "Python 3",
   "language": "python",
   "name": "python3"
  },
  "language_info": {
   "codemirror_mode": {
    "name": "ipython",
    "version": 3
   },
   "file_extension": ".py",
   "mimetype": "text/x-python",
   "name": "python",
   "nbconvert_exporter": "python",
   "pygments_lexer": "ipython3",
   "version": "3.7.3"
  }
 },
 "nbformat": 4,
 "nbformat_minor": 2
}
